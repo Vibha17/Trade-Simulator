{
 "cells": [
  {
   "cell_type": "markdown",
   "id": "00ba897a-c075-4fb0-8bbd-59e4e3224f22",
   "metadata": {},
   "source": [
    "1. Project Setup"
   ]
  },
  {
   "cell_type": "code",
   "execution_count": 1,
   "id": "2cffdd77-b844-432f-b726-9dd5f281b623",
   "metadata": {},
   "outputs": [
    {
     "name": "stdout",
     "output_type": "stream",
     "text": [
      "Requirement already satisfied: websockets in c:\\users\\vibha\\appdata\\local\\programs\\python\\python311\\lib\\site-packages (15.0.1)\n",
      "Requirement already satisfied: pandas in c:\\users\\vibha\\appdata\\local\\programs\\python\\python311\\lib\\site-packages (2.2.1)\n",
      "Requirement already satisfied: numpy in c:\\users\\vibha\\appdata\\local\\programs\\python\\python311\\lib\\site-packages (1.26.4)\n",
      "Requirement already satisfied: scikit-learn in c:\\users\\vibha\\appdata\\local\\programs\\python\\python311\\lib\\site-packages (1.6.1)\n",
      "Requirement already satisfied: ipywidgets in c:\\users\\vibha\\appdata\\local\\programs\\python\\python311\\lib\\site-packages (8.1.2)\n",
      "Requirement already satisfied: python-dateutil>=2.8.2 in c:\\users\\vibha\\appdata\\local\\programs\\python\\python311\\lib\\site-packages (from pandas) (2.9.0.post0)\n",
      "Requirement already satisfied: pytz>=2020.1 in c:\\users\\vibha\\appdata\\local\\programs\\python\\python311\\lib\\site-packages (from pandas) (2024.1)\n",
      "Requirement already satisfied: tzdata>=2022.7 in c:\\users\\vibha\\appdata\\local\\programs\\python\\python311\\lib\\site-packages (from pandas) (2024.1)\n",
      "Requirement already satisfied: scipy>=1.6.0 in c:\\users\\vibha\\appdata\\local\\programs\\python\\python311\\lib\\site-packages (from scikit-learn) (1.13.0)\n",
      "Requirement already satisfied: joblib>=1.2.0 in c:\\users\\vibha\\appdata\\local\\programs\\python\\python311\\lib\\site-packages (from scikit-learn) (1.4.2)\n",
      "Requirement already satisfied: threadpoolctl>=3.1.0 in c:\\users\\vibha\\appdata\\local\\programs\\python\\python311\\lib\\site-packages (from scikit-learn) (3.6.0)\n",
      "Requirement already satisfied: comm>=0.1.3 in c:\\users\\vibha\\appdata\\local\\programs\\python\\python311\\lib\\site-packages (from ipywidgets) (0.2.2)\n",
      "Requirement already satisfied: ipython>=6.1.0 in c:\\users\\vibha\\appdata\\local\\programs\\python\\python311\\lib\\site-packages (from ipywidgets) (8.23.0)\n",
      "Requirement already satisfied: traitlets>=4.3.1 in c:\\users\\vibha\\appdata\\local\\programs\\python\\python311\\lib\\site-packages (from ipywidgets) (5.14.2)\n",
      "Requirement already satisfied: widgetsnbextension~=4.0.10 in c:\\users\\vibha\\appdata\\local\\programs\\python\\python311\\lib\\site-packages (from ipywidgets) (4.0.10)\n",
      "Requirement already satisfied: jupyterlab-widgets~=3.0.10 in c:\\users\\vibha\\appdata\\local\\programs\\python\\python311\\lib\\site-packages (from ipywidgets) (3.0.10)\n",
      "Requirement already satisfied: decorator in c:\\users\\vibha\\appdata\\local\\programs\\python\\python311\\lib\\site-packages (from ipython>=6.1.0->ipywidgets) (5.1.1)\n",
      "Requirement already satisfied: jedi>=0.16 in c:\\users\\vibha\\appdata\\local\\programs\\python\\python311\\lib\\site-packages (from ipython>=6.1.0->ipywidgets) (0.19.1)\n",
      "Requirement already satisfied: matplotlib-inline in c:\\users\\vibha\\appdata\\local\\programs\\python\\python311\\lib\\site-packages (from ipython>=6.1.0->ipywidgets) (0.1.6)\n",
      "Requirement already satisfied: prompt-toolkit<3.1.0,>=3.0.41 in c:\\users\\vibha\\appdata\\local\\programs\\python\\python311\\lib\\site-packages (from ipython>=6.1.0->ipywidgets) (3.0.43)\n",
      "Requirement already satisfied: pygments>=2.4.0 in c:\\users\\vibha\\appdata\\local\\programs\\python\\python311\\lib\\site-packages (from ipython>=6.1.0->ipywidgets) (2.17.2)\n",
      "Requirement already satisfied: stack-data in c:\\users\\vibha\\appdata\\local\\programs\\python\\python311\\lib\\site-packages (from ipython>=6.1.0->ipywidgets) (0.6.3)\n",
      "Requirement already satisfied: typing-extensions in c:\\users\\vibha\\appdata\\local\\programs\\python\\python311\\lib\\site-packages (from ipython>=6.1.0->ipywidgets) (4.11.0)\n",
      "Requirement already satisfied: colorama in c:\\users\\vibha\\appdata\\local\\programs\\python\\python311\\lib\\site-packages (from ipython>=6.1.0->ipywidgets) (0.4.6)\n",
      "Requirement already satisfied: wcwidth in c:\\users\\vibha\\appdata\\local\\programs\\python\\python311\\lib\\site-packages (from prompt-toolkit<3.1.0,>=3.0.41->ipython>=6.1.0->ipywidgets) (0.2.13)\n",
      "Requirement already satisfied: parso<0.9.0,>=0.8.3 in c:\\users\\vibha\\appdata\\local\\programs\\python\\python311\\lib\\site-packages (from jedi>=0.16->ipython>=6.1.0->ipywidgets) (0.8.4)\n",
      "Requirement already satisfied: six>=1.5 in c:\\users\\vibha\\appdata\\local\\programs\\python\\python311\\lib\\site-packages (from python-dateutil>=2.8.2->pandas) (1.16.0)\n",
      "Requirement already satisfied: executing>=1.2.0 in c:\\users\\vibha\\appdata\\local\\programs\\python\\python311\\lib\\site-packages (from stack-data->ipython>=6.1.0->ipywidgets) (2.0.1)\n",
      "Requirement already satisfied: asttokens>=2.1.0 in c:\\users\\vibha\\appdata\\local\\programs\\python\\python311\\lib\\site-packages (from stack-data->ipython>=6.1.0->ipywidgets) (2.4.1)\n",
      "Requirement already satisfied: pure-eval in c:\\users\\vibha\\appdata\\local\\programs\\python\\python311\\lib\\site-packages (from stack-data->ipython>=6.1.0->ipywidgets) (0.2.2)\n"
     ]
    }
   ],
   "source": [
    "!pip install websockets pandas numpy scikit-learn ipywidgets"
   ]
  },
  {
   "cell_type": "code",
   "execution_count": 2,
   "id": "fbaabe2a-b049-4700-9285-ced4b5cc5d1d",
   "metadata": {},
   "outputs": [
    {
     "name": "stdout",
     "output_type": "stream",
     "text": [
      "Requirement already satisfied: pip in c:\\users\\vibha\\appdata\\local\\programs\\python\\python311\\lib\\site-packages (25.1.1)\n",
      "Note: you may need to restart the kernel to use updated packages.\n"
     ]
    }
   ],
   "source": [
    "pip install --upgrade pip"
   ]
  },
  {
   "cell_type": "code",
   "execution_count": 3,
   "id": "701535bd-cc73-4a82-8374-37a1c730e192",
   "metadata": {},
   "outputs": [],
   "source": [
    "import ipywidgets as widgets\n",
    "from IPython.display import display, clear_output"
   ]
  },
  {
   "cell_type": "markdown",
   "id": "67a9cf2b-a7c2-4061-9b8c-5af70e3a608a",
   "metadata": {},
   "source": [
    " 2. Connecting to OKX via WebSocket"
   ]
  },
  {
   "cell_type": "code",
   "execution_count": 4,
   "id": "62e5b155-fcba-466f-aca8-713158b1532e",
   "metadata": {},
   "outputs": [],
   "source": [
    "import asyncio, websockets, json\n",
    "\n",
    "WS_URL = \"wss://ws.gomarket-cpp.goquant.io/ws/l2-orderbook/okx/BTC-USDT-SWAP\"\n",
    "\n",
    "async def stream_orderbook():\n",
    "    async with websockets.connect(WS_URL) as ws:\n",
    "        async for message in ws:\n",
    "            data = json.loads(message)\n",
    "            # for now, just print the timestamp\n",
    "            print(\"Tick at\", data[\"timestamp\"])\n",
    "            break  # remove this later!\n"
   ]
  },
  {
   "cell_type": "code",
   "execution_count": 5,
   "id": "556986cd-6477-4a9d-8b0a-a94d0297aa4e",
   "metadata": {},
   "outputs": [
    {
     "name": "stdout",
     "output_type": "stream",
     "text": [
      "Tick at 2025-05-14T11:16:31Z\n"
     ]
    }
   ],
   "source": [
    "await stream_orderbook()"
   ]
  },
  {
   "cell_type": "markdown",
   "id": "ccce4398-224e-4570-a9d6-304d2db7142a",
   "metadata": {},
   "source": [
    " 3. Parsing & Storing Order-Book Data"
   ]
  },
  {
   "cell_type": "code",
   "execution_count": 6,
   "id": "fbb6ec79-ee3e-466a-a6fc-46622a4da379",
   "metadata": {},
   "outputs": [
    {
     "name": "stdout",
     "output_type": "stream",
     "text": [
      "Best bid: [95445.4   1104.23] Best ask: [9.5448e+04 2.0500e+00]\n"
     ]
    }
   ],
   "source": [
    "import numpy as np\n",
    "\n",
    "def parse_orderbook(data):\n",
    "    asks = np.array(data[\"asks\"], dtype=float)\n",
    "    bids = np.array(data[\"bids\"], dtype=float)\n",
    "    return bids, asks\n",
    "\n",
    "# --- Dummy tick to test your parser ---\n",
    "sample_data = {\n",
    "    \"timestamp\": \"2025-05-14T12:00:00Z\",\n",
    "    \"asks\": [[\"95448.0\", \"2.05\"], [\"95449.0\", \"5.00\"]],\n",
    "    \"bids\": [[\"95445.4\", \"1104.23\"], [\"95445.3\", \"0.02\"]],\n",
    "}\n",
    "\n",
    "bids, asks = parse_orderbook(sample_data)\n",
    "print(\"Best bid:\", bids[0], \"Best ask:\", asks[0])\n"
   ]
  },
  {
   "cell_type": "code",
   "execution_count": 7,
   "id": "227aa7ee-5709-411e-81c4-104380b94af3",
   "metadata": {},
   "outputs": [
    {
     "name": "stdout",
     "output_type": "stream",
     "text": [
      "Best bid: [103870.      239.23] Best ask: [103870.1    1285.66]\n"
     ]
    }
   ],
   "source": [
    "import asyncio, websockets, json, numpy as np\n",
    "\n",
    "WS_URL = \"wss://ws.gomarket-cpp.goquant.io/ws/l2-orderbook/okx/BTC-USDT-SWAP\"\n",
    "\n",
    "def parse_orderbook(data):\n",
    "    asks = np.array(data[\"asks\"], dtype=float)\n",
    "    bids = np.array(data[\"bids\"], dtype=float)\n",
    "    return bids, asks\n",
    "\n",
    "async def stream_and_parse():\n",
    "    async with websockets.connect(WS_URL) as ws:\n",
    "        async for message in ws:\n",
    "            data = json.loads(message)\n",
    "            bids, asks = parse_orderbook(data)        # ← data is defined here\n",
    "            print(\"Best bid:\", bids[0], \"Best ask:\", asks[0])\n",
    "            break  # remove this once you’re confident it works\n",
    "\n",
    "# In Jupyter, just await your coroutine:\n",
    "await stream_and_parse()\n"
   ]
  },
  {
   "cell_type": "markdown",
   "id": "44fbfebb-5a06-4165-a125-69280c42f2b2",
   "metadata": {},
   "source": [
    " 4. Computing Simple Outputs First"
   ]
  },
  {
   "cell_type": "code",
   "execution_count": 8,
   "id": "dbbbbf2e-aaf4-4440-b8ae-8d16d01b688b",
   "metadata": {},
   "outputs": [],
   "source": [
    "def compute_mid_and_spread(bids, asks):\n",
    "    best_bid, _ = bids[0]\n",
    "    best_ask, _ = asks[0]\n",
    "    mid = (best_bid + best_ask) / 2\n",
    "    spread = best_ask - best_bid\n",
    "    return mid, spread\n"
   ]
  },
  {
   "cell_type": "markdown",
   "id": "b0f3373d-6dac-4dc5-b40d-af09ccefb7eb",
   "metadata": {},
   "source": [
    "5. Building First “UI” with ipywidgets"
   ]
  },
  {
   "cell_type": "code",
   "execution_count": 9,
   "id": "c50f3291-7747-43cd-86b4-c269e217b83b",
   "metadata": {},
   "outputs": [
    {
     "data": {
      "application/vnd.jupyter.widget-view+json": {
       "model_id": "7ba12a7dfa2143458afda781c1b698e6",
       "version_major": 2,
       "version_minor": 0
      },
      "text/plain": [
       "Dropdown(description='Asset:', options=('BTC-USDT', 'ETH-USDT'), value='BTC-USDT')"
      ]
     },
     "metadata": {},
     "output_type": "display_data"
    },
    {
     "data": {
      "application/vnd.jupyter.widget-view+json": {
       "model_id": "d24244f80f674b37ad8b5cb00a3cb019",
       "version_major": 2,
       "version_minor": 0
      },
      "text/plain": [
       "FloatText(value=100.0, description='Qty (USD):')"
      ]
     },
     "metadata": {},
     "output_type": "display_data"
    },
    {
     "data": {
      "application/vnd.jupyter.widget-view+json": {
       "model_id": "acaa10391793414bb43e2a90f3acf8e7",
       "version_major": 2,
       "version_minor": 0
      },
      "text/plain": [
       "FloatSlider(value=0.5, description='Volatility:', max=2.0, step=0.01)"
      ]
     },
     "metadata": {},
     "output_type": "display_data"
    },
    {
     "data": {
      "application/vnd.jupyter.widget-view+json": {
       "model_id": "6ee31508481e4091a90c29f225c09e73",
       "version_major": 2,
       "version_minor": 0
      },
      "text/plain": [
       "Dropdown(description='Fee tier:', options=('0.02%', '0.05%'), value='0.02%')"
      ]
     },
     "metadata": {},
     "output_type": "display_data"
    },
    {
     "data": {
      "application/vnd.jupyter.widget-view+json": {
       "model_id": "2c70fcdeb7184d33ad7b19c05e658665",
       "version_major": 2,
       "version_minor": 0
      },
      "text/plain": [
       "Label(value='Mid-price: ')"
      ]
     },
     "metadata": {},
     "output_type": "display_data"
    },
    {
     "data": {
      "application/vnd.jupyter.widget-view+json": {
       "model_id": "76a5844063f14673ab4c342bfbff750a",
       "version_major": 2,
       "version_minor": 0
      },
      "text/plain": [
       "Label(value='Spread: ')"
      ]
     },
     "metadata": {},
     "output_type": "display_data"
    }
   ],
   "source": [
    "\n",
    "\n",
    "\n",
    "# Input widgets\n",
    "asset = widgets.Dropdown(options=[\"BTC-USDT\", \"ETH-USDT\"], description=\"Asset:\")\n",
    "quantity = widgets.FloatText(value=100, description=\"Qty (USD):\")\n",
    "volatility = widgets.FloatSlider(value=0.5, min=0, max=2, step=0.01, description=\"Volatility:\")\n",
    "fee_tier = widgets.Dropdown(options=[\"0.02%\", \"0.05%\"], description=\"Fee tier:\")\n",
    "\n",
    "# Output areas\n",
    "out_mid = widgets.Label(value=\"Mid-price: \")\n",
    "out_spread = widgets.Label(value=\"Spread: \")\n",
    "\n",
    "display(asset, quantity, volatility, fee_tier, out_mid, out_spread)\n",
    "\n"
   ]
  },
  {
   "cell_type": "code",
   "execution_count": 10,
   "id": "27c67739-3d86-42fb-ad74-824292dd7fcf",
   "metadata": {},
   "outputs": [],
   "source": [
    "# 1) Make sure your compute function is defined and run\n",
    "def compute_mid_and_spread(bids, asks):\n",
    "    best_bid, _ = bids[0]\n",
    "    best_ask, _ = asks[0]\n",
    "    mid = (best_bid + best_ask) / 2\n",
    "    spread = best_ask - best_bid\n",
    "    return mid, spread\n",
    "\n",
    "# 2) Suppose you already have bids, asks arrays:\n",
    "bids = np.array([[95445.4, 1104.23], [95445.3, 0.02]])\n",
    "asks = np.array([[95448.0,   2.05], [95449.0, 5.00]])\n",
    "\n",
    "# 3) Compute mid & spread\n",
    "mid, spread = compute_mid_and_spread(bids, asks)\n",
    "\n",
    "# 4) Now update your widgets\n",
    "out_mid.value    = f\"Mid-price: {mid:.2f}\"\n",
    "out_spread.value = f\"Spread:   {spread:.2f}\"\n"
   ]
  },
  {
   "cell_type": "markdown",
   "id": "65f3225b-a259-4aa1-93b7-e00feb9e62bf",
   "metadata": {},
   "source": [
    "6. Adding Slippage, Fees & Impact Models"
   ]
  },
  {
   "cell_type": "markdown",
   "id": "48c3c160-f090-4006-bfc4-46d26ba29e21",
   "metadata": {},
   "source": [
    "Slippage model (simple linear regression stub):"
   ]
  },
  {
   "cell_type": "code",
   "execution_count": 11,
   "id": "a8a95980-b53b-400e-949d-2a37260380cb",
   "metadata": {},
   "outputs": [],
   "source": [
    "# Cell: Slippage model setup\n",
    "import numpy as np\n",
    "from sklearn.linear_model import LinearRegression\n",
    "\n",
    "# 1) Prepare your dummy training data\n",
    "#    Each row is [volatility], each target is slippage percentage\n",
    "X_train = np.array([[0.01], [0.02], [0.03]])       # volatilities\n",
    "y_train = np.array([0.1,  0.2,   0.35 ])           # slippage %’s\n",
    "\n",
    "# 2) Fit the linear regression\n",
    "slippage_model = LinearRegression().fit(X_train, y_train)\n",
    "\n",
    "# 3) Define your helper function\n",
    "def expected_slippage(vol, qty_usd):\n",
    "    # Predict slippage percentage from volatility\n",
    "    pct = slippage_model.predict(np.array([[vol]]))[0]\n",
    "    return pct * qty_usd / 100\n"
   ]
  },
  {
   "cell_type": "code",
   "execution_count": 12,
   "id": "cef59e40-b77d-4b82-8993-2c6dbb29e4b7",
   "metadata": {},
   "outputs": [
    {
     "name": "stdout",
     "output_type": "stream",
     "text": [
      "Expected slippage cost: $6.22\n"
     ]
    }
   ],
   "source": [
    "# Pull the float values out of the widgets\n",
    "vol_val = volatility.value\n",
    "qty_val = quantity.value\n",
    "\n",
    "# Now both are real numbers, so your model will accept them\n",
    "slip_cost = expected_slippage(vol_val, qty_val)\n",
    "print(f\"Expected slippage cost: ${slip_cost:.2f}\")\n"
   ]
  },
  {
   "cell_type": "code",
   "execution_count": 13,
   "id": "c032ac60-beb8-4d78-bbe5-70a95d19ddaa",
   "metadata": {},
   "outputs": [
    {
     "data": {
      "application/vnd.jupyter.widget-view+json": {
       "model_id": "55e051e8c6ae4e2e9dffd1936d409fe3",
       "version_major": 2,
       "version_minor": 0
      },
      "text/plain": [
       "Label(value='Slippage: ')"
      ]
     },
     "metadata": {},
     "output_type": "display_data"
    }
   ],
   "source": [
    "import ipywidgets as widgets\n",
    "from IPython.display import display\n",
    "\n",
    "# Create the slippage output label\n",
    "out_slippage = widgets.Label(value=\"Slippage: \")\n",
    "display(out_slippage)\n",
    "\n",
    "slip_cost = expected_slippage(volatility.value, quantity.value)\n",
    "\n",
    "out_slippage.value = f\"Slippage: ${slip_cost:.2f}\"\n"
   ]
  },
  {
   "cell_type": "markdown",
   "id": "36fc8a39-6070-4db0-b0aa-f18911d85564",
   "metadata": {},
   "source": [
    "Fees (rule-based):"
   ]
  },
  {
   "cell_type": "code",
   "execution_count": 14,
   "id": "adba6912-f8f3-48b8-ae23-8475ffc4aedd",
   "metadata": {},
   "outputs": [],
   "source": [
    "def expected_fees(qty_usd, tier_str):\n",
    "    tier_pct = float(tier_str.strip(\"%\")) / 100\n",
    "    return qty_usd * tier_pct\n"
   ]
  },
  {
   "cell_type": "markdown",
   "id": "7f89e0f5-71c1-418c-8a3f-c64a6a79ce54",
   "metadata": {},
   "source": [
    "Almgren–Chriss impact (very simplified):"
   ]
  },
  {
   "cell_type": "code",
   "execution_count": 15,
   "id": "0fa70638-07c0-40ce-bf9a-272b0cfd9bc7",
   "metadata": {},
   "outputs": [],
   "source": [
    "def market_impact(qty_usd, vol):\n",
    "    # placeholder: impact = k * qty * vol\n",
    "    k = 1e-4\n",
    "    return k * qty_usd * vol\n"
   ]
  },
  {
   "cell_type": "markdown",
   "id": "154c4358-1527-40c8-a664-750ea57c8562",
   "metadata": {},
   "source": [
    "Net cost = slippage + fees + impact."
   ]
  },
  {
   "cell_type": "markdown",
   "id": "ba76c907-95f4-4d36-a016-5972d56c7406",
   "metadata": {},
   "source": [
    "7. Maker/Taker Prediction"
   ]
  },
  {
   "cell_type": "code",
   "execution_count": 16,
   "id": "b3937b03-5455-413c-b912-59ff64994656",
   "metadata": {},
   "outputs": [],
   "source": [
    "from sklearn.linear_model import LogisticRegression\n",
    "X = np.random.rand(100,2)  # e.g. [volatility, qty]\n",
    "y = (X[:,0]*10 + X[:,1] > 5).astype(int)  # fake label\n",
    "mt_model = LogisticRegression().fit(X, y)\n",
    "\n",
    "def maker_taker_pct(vol, qty):\n",
    "    prob = mt_model.predict_proba([[vol, qty]])[0][1]\n",
    "    return prob  # percent of maker trades\n"
   ]
  },
  {
   "cell_type": "code",
   "execution_count": 17,
   "id": "5b2c364b-82d2-4571-8172-a2479cda8d5d",
   "metadata": {},
   "outputs": [
    {
     "data": {
      "application/vnd.jupyter.widget-view+json": {
       "model_id": "a85e5615ef4f42f3a4c5ce8340ec34e5",
       "version_major": 2,
       "version_minor": 0
      },
      "text/plain": [
       "Label(value='Maker %: ')"
      ]
     },
     "metadata": {},
     "output_type": "display_data"
    }
   ],
   "source": [
    "# 1) Ensure you have the widget\n",
    "out_mt = widgets.Label(value=\"Maker %: \")\n",
    "display(out_mt)\n",
    "\n",
    "# 2) Pull real numbers from your controls\n",
    "vol_val = volatility.value\n",
    "qty_val = quantity.value\n",
    "\n",
    "# 3) Run prediction and update\n",
    "mt_pct = maker_taker_pct(vol_val, qty_val) * 100\n",
    "out_mt.value = f\"Maker %: {mt_pct:.1f}\"\n"
   ]
  },
  {
   "cell_type": "code",
   "execution_count": 18,
   "id": "69d0ac07-3f33-4ed6-83bd-d00ca7089564",
   "metadata": {},
   "outputs": [
    {
     "data": {
      "application/vnd.jupyter.widget-view+json": {
       "model_id": "aa383011c22e4290989b445e358e9c90",
       "version_major": 2,
       "version_minor": 0
      },
      "text/plain": [
       "Label(value='Latency: ')"
      ]
     },
     "metadata": {},
     "output_type": "display_data"
    }
   ],
   "source": [
    "import ipywidgets as widgets\n",
    "from IPython.display import display\n",
    "\n",
    "out_latency = widgets.Label(value=\"Latency: \")\n",
    "display(out_latency)\n"
   ]
  },
  {
   "cell_type": "markdown",
   "id": "22e38556-171e-4c03-afab-8d8533b3a4c9",
   "metadata": {},
   "source": [
    "8. Measuring Latency"
   ]
  },
  {
   "cell_type": "code",
   "execution_count": 19,
   "id": "f02a56a8-1047-4d1a-bb61-d9af12731e28",
   "metadata": {},
   "outputs": [],
   "source": [
    "import time\n",
    "\n",
    "start = time.time()\n",
    "# parse + compute + update UI\n",
    "latency = time.time() - start\n",
    "out_latency.value = f\"Latency: {latency*1000:.1f} ms\"\n"
   ]
  },
  {
   "cell_type": "code",
   "execution_count": 20,
   "id": "c894bda5-7eb2-48fc-88f4-230f01314faa",
   "metadata": {},
   "outputs": [
    {
     "data": {
      "application/vnd.jupyter.widget-view+json": {
       "model_id": "d06407c50fde4290b556d4d4694d93c0",
       "version_major": 2,
       "version_minor": 0
      },
      "text/plain": [
       "VBox(children=(HBox(children=(Dropdown(description='Asset:', options=('BTC-USDT', 'ETH-USDT'), value='BTC-USDT…"
      ]
     },
     "metadata": {},
     "output_type": "display_data"
    }
   ],
   "source": [
    "\n",
    "\n",
    "\n",
    "\n",
    "import ipywidgets as widgets\n",
    "from IPython.display import display, clear_output\n",
    "\n",
    "# Input controls\n",
    "asset       = widgets.Dropdown(options=[\"BTC-USDT\",\"ETH-USDT\"], description=\"Asset:\")\n",
    "quantity    = widgets.FloatText(value=100, description=\"Qty (USD):\")\n",
    "volatility  = widgets.FloatSlider(value=0.5, min=0, max=2, step=0.01, description=\"Vol:\")\n",
    "fee_tier    = widgets.Dropdown(options=[\"0.02%\",\"0.05%\"], description=\"Fee tier:\")\n",
    "\n",
    "# Output labels\n",
    "out_mid        = widgets.Label(value=\"Mid-price: \")\n",
    "out_spread     = widgets.Label(value=\"Spread: \")\n",
    "out_slippage   = widgets.Label(value=\"Slippage: \")\n",
    "out_fees       = widgets.Label(value=\"Fees: \")\n",
    "out_impact     = widgets.Label(value=\"Impact: \")\n",
    "out_netcost    = widgets.Label(value=\"Net cost: \")\n",
    "out_mt         = widgets.Label(value=\"Maker %: \")\n",
    "out_latency    = widgets.Label(value=\"Latency: \")\n",
    "\n",
    "# Display all\n",
    "display(widgets.VBox([\n",
    "    widgets.HBox([asset, quantity, volatility, fee_tier]),\n",
    "    widgets.VBox([out_mid, out_spread, out_slippage, out_fees,\n",
    "                  out_impact, out_netcost, out_mt, out_latency])\n",
    "]))\n"
   ]
  },
  {
   "cell_type": "code",
   "execution_count": 21,
   "id": "83dff45e-40d3-46dd-9fab-4edc87bdc22c",
   "metadata": {},
   "outputs": [],
   "source": [
    "import numpy as np\n",
    "import json\n",
    "from sklearn.linear_model import LinearRegression, LogisticRegression\n",
    "\n",
    "# 2.1) Parse raw JSON → bids/asks arrays\n",
    "def parse_orderbook(data):\n",
    "    asks = np.array(data[\"asks\"], dtype=float)\n",
    "    bids = np.array(data[\"bids\"], dtype=float)\n",
    "    return bids, asks\n",
    "\n",
    "# 2.2) Mid & spread\n",
    "def compute_mid_and_spread(bids, asks):\n",
    "    best_bid, _ = bids[0]\n",
    "    best_ask, _ = asks[0]\n",
    "    mid    = (best_bid + best_ask) / 2\n",
    "    spread = best_ask - best_bid\n",
    "    return mid, spread\n",
    "\n",
    "# 2.3) Slippage model (pre-trained on dummy data)\n",
    "X = np.array([[0.01],[0.02],[0.03]])\n",
    "y = np.array([0.1,0.2,0.35])\n",
    "slippage_model = LinearRegression().fit(X,y)\n",
    "def expected_slippage(vol, qty):\n",
    "    pct = slippage_model.predict([[vol]])[0]\n",
    "    return pct * qty / 100\n",
    "\n",
    "# 2.4) Fees\n",
    "def expected_fees(qty, tier_str):\n",
    "    pct = float(tier_str.strip(\"%\"))/100\n",
    "    return qty * pct\n",
    "\n",
    "# 2.5) Market impact (simple stub)\n",
    "def market_impact(qty, vol):\n",
    "    return 1e-4 * qty * vol\n",
    "\n",
    "# 2.6) Maker/Taker model (dummy‐trained)\n",
    "mt_model = LogisticRegression().fit(\n",
    "    np.random.rand(100,2), \n",
    "    (np.random.rand(100)>0.5).astype(int)\n",
    ")\n",
    "def maker_taker_pct(vol, qty):\n",
    "    return mt_model.predict_proba([[vol,qty]])[0][1]\n"
   ]
  },
  {
   "cell_type": "code",
   "execution_count": 22,
   "id": "9dc70b87-5e50-4d65-bb6d-042f2f934bae",
   "metadata": {},
   "outputs": [],
   "source": [
    "import asyncio, websockets, time\n",
    "\n",
    "WS_URL = \"wss://ws.gomarket-cpp.goquant.io/ws/l2-orderbook/okx/BTC-USDT-SWAP\"\n",
    "\n",
    "async def run_simulator():\n",
    "    async with websockets.connect(WS_URL) as ws:\n",
    "        async for message in ws:\n",
    "            tick_start = time.time()\n",
    "            \n",
    "            # 3.1) Parse JSON\n",
    "            data = json.loads(message)\n",
    "            bids, asks = parse_orderbook(data)\n",
    "            \n",
    "            # 3.2) Compute metrics\n",
    "            mid, spread = compute_mid_and_spread(bids, asks)\n",
    "            slip   = expected_slippage(volatility.value, quantity.value)\n",
    "            fees   = expected_fees(quantity.value, fee_tier.value)\n",
    "            impact = market_impact(quantity.value, volatility.value)\n",
    "            net    = slip + fees + impact\n",
    "            mt_pct = maker_taker_pct(volatility.value, quantity.value) * 100\n",
    "            \n",
    "            # 3.3) Update UI\n",
    "            out_mid.value      = f\"Mid-price: {mid:.2f}\"\n",
    "            out_spread.value   = f\"Spread: {spread:.2f}\"\n",
    "            out_slippage.value = f\"Slippage: ${slip:.2f}\"\n",
    "            out_fees.value     = f\"Fees: ${fees:.2f}\"\n",
    "            out_impact.value   = f\"Impact: ${impact:.2f}\"\n",
    "            out_netcost.value  = f\"Net cost: ${net:.2f}\"\n",
    "            out_mt.value       = f\"Maker %: {mt_pct:.1f}\"\n",
    "            \n",
    "            # 3.4) Measure & display latency\n",
    "            latency = (time.time() - tick_start)*1000\n",
    "            out_latency.value = f\"Latency: {latency:.1f} ms\"\n",
    "            \n",
    "            # 3.5) For testing, stop after 30 updates\n",
    "            run_simulator.counter += 1\n",
    "            if run_simulator.counter >= 30:\n",
    "                break\n",
    "\n",
    "# attach a counter attribute\n",
    "run_simulator.counter = 0\n"
   ]
  },
  {
   "cell_type": "code",
   "execution_count": 23,
   "id": "01b51dad-128b-4949-bb24-34e7592c7131",
   "metadata": {},
   "outputs": [],
   "source": [
    "await run_simulator()\n"
   ]
  },
  {
   "cell_type": "code",
   "execution_count": 24,
   "id": "d5bd5862-6499-4b46-b2bd-dd5dbf82907e",
   "metadata": {},
   "outputs": [
    {
     "data": {
      "application/vnd.jupyter.widget-view+json": {
       "model_id": "702e9c460e3b4ac49f87bd6eb7733163",
       "version_major": 2,
       "version_minor": 0
      },
      "text/plain": [
       "HBox(children=(VBox(children=(FloatText(value=100.0, description='Quantity (USD):'), FloatSlider(value=0.1, de…"
      ]
     },
     "metadata": {},
     "output_type": "display_data"
    }
   ],
   "source": [
    "import ipywidgets as widgets\n",
    "from IPython.display import display, clear_output\n",
    "\n",
    "# 1) Create input widgets\n",
    "quantity    = widgets.FloatText(description=\"Quantity (USD):\", value=100)\n",
    "volatility  = widgets.FloatSlider(description=\"Volatility:\", min=0, max=1, step=0.01, value=0.1)\n",
    "fee_tier    = widgets.Dropdown(options=[(\"VIP 0\", 0.002), (\"VIP 1\", 0.0015)], description=\"Fee Tier:\", value=0.002)\n",
    "\n",
    "# 2) Create output widgets (just labels to hold values)\n",
    "mid_price_o = widgets.Label(value=\"Mid-Price: —\")\n",
    "spread_o    = widgets.Label(value=\"Spread: —\")\n",
    "slip_o      = widgets.Label(value=\"Slippage: —\")\n",
    "fees_o      = widgets.Label(value=\"Fees: —\")\n",
    "impact_o    = widgets.Label(value=\"Impact: —\")\n",
    "mt_o        = widgets.Label(value=\"Maker/Taker %: —\")\n",
    "lat_o       = widgets.Label(value=\"Latency: —\")\n",
    "\n",
    "# 3) Define the update function\n",
    "def update_metrics(change=None):\n",
    "    # compute your metrics here; replace the dummy math with your real functions\n",
    "    mid   = 95000 + quantity.value * 0.1\n",
    "    spr   = 0.5 + volatility.value * 0.2\n",
    "    slip  = 0.01 * quantity.value\n",
    "    fees  = quantity.value * fee_tier.value\n",
    "    imp   = slip * 0.5\n",
    "    mtpct = 100 * (1 - fee_tier.value / 0.002)  # dummy\n",
    "    lat   = 0.001                                # dummy latency\n",
    "    \n",
    "    # update each output widget’s .value\n",
    "    mid_price_o.value = f\"Mid-Price: {mid:.2f}\"\n",
    "    spread_o   .value = f\"Spread: {spr:.4f}\"\n",
    "    slip_o     .value = f\"Slippage: {slip:.4f}\"\n",
    "    fees_o     .value = f\"Fees: {fees:.4f}\"\n",
    "    impact_o   .value = f\"Impact: {imp:.4f}\"\n",
    "    mt_o       .value = f\"Maker/Taker %: {mtpct:.1f}%\"\n",
    "    lat_o      .value = f\"Latency: {lat*1000:.2f} ms\"\n",
    "\n",
    "# 4) Hook the update to each input\n",
    "for w in (quantity, volatility, fee_tier):\n",
    "    w.observe(update_metrics, names='value')\n",
    "\n",
    "# 5) Display everything in a layout\n",
    "inputs  = widgets.VBox([quantity, volatility, fee_tier])\n",
    "outputs = widgets.VBox([mid_price_o, spread_o, slip_o, fees_o, impact_o, mt_o, lat_o])\n",
    "display(widgets.HBox([inputs, outputs]))\n",
    "\n",
    "# 6) Fire once to populate initial values\n",
    "update_metrics()\n"
   ]
  }
 ],
 "metadata": {
  "kernelspec": {
   "display_name": "Python 3 (ipykernel)",
   "language": "python",
   "name": "python3"
  },
  "language_info": {
   "codemirror_mode": {
    "name": "ipython",
    "version": 3
   },
   "file_extension": ".py",
   "mimetype": "text/x-python",
   "name": "python",
   "nbconvert_exporter": "python",
   "pygments_lexer": "ipython3",
   "version": "3.11.3"
  }
 },
 "nbformat": 4,
 "nbformat_minor": 5
}
